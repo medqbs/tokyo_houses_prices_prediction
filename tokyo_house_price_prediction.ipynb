{
  "nbformat": 4,
  "nbformat_minor": 0,
  "metadata": {
    "colab": {
      "name": "tokyo_house_price_prediction.ipynb",
      "provenance": [],
      "collapsed_sections": [],
      "include_colab_link": true
    },
    "kernelspec": {
      "name": "python3",
      "display_name": "Python 3"
    },
    "language_info": {
      "name": "python"
    }
  },
  "cells": [
    {
      "cell_type": "markdown",
      "metadata": {
        "id": "view-in-github",
        "colab_type": "text"
      },
      "source": [
        "<a href=\"https://colab.research.google.com/github/medqbs/tokyo_houses_prices_prediction/blob/main/tokyo_house_price_prediction.ipynb\" target=\"_parent\"><img src=\"https://colab.research.google.com/assets/colab-badge.svg\" alt=\"Open In Colab\"/></a>"
      ]
    },
    {
      "cell_type": "code",
      "execution_count": 1,
      "metadata": {
        "colab": {
          "base_uri": "https://localhost:8080/"
        },
        "id": "AGGszlWLW_VA",
        "outputId": "cebd58a6-f586-407a-c28c-b86664fc1811"
      },
      "outputs": [
        {
          "output_type": "stream",
          "name": "stdout",
          "text": [
            "Libraries imported.\n",
            "2.8.0\n"
          ]
        }
      ],
      "source": [
        "import pandas as pd\n",
        "import numpy as np\n",
        "import matplotlib.pyplot as plt\n",
        "import tensorflow as tf\n",
        "import seaborn as sns\n",
        "\n",
        "from pandas.plotting import scatter_matrix\n",
        "from scipy import stats\n",
        "from keras import backend as K\n",
        "\n",
        "from sklearn.model_selection import train_test_split\n",
        "from sklearn.linear_model import LinearRegression\n",
        "from sklearn.metrics import mean_squared_error\n",
        "from sklearn.pipeline import Pipeline\n",
        "from sklearn.preprocessing import PolynomialFeatures\n",
        "from sklearn.preprocessing import StandardScaler\n",
        "from sklearn.preprocessing import OneHotEncoder\n",
        "from sklearn.tree import DecisionTreeRegressor\n",
        "from sklearn.ensemble import RandomForestRegressor\n",
        "from sklearn.compose import ColumnTransformer\n",
        "\n",
        "from tensorflow import keras\n",
        "from tensorflow.keras import layers\n",
        "from tensorflow.keras.layers.experimental import preprocessing\n",
        "from tensorflow.keras.models import Sequential\n",
        "from tensorflow.keras.layers import Dense, Dropout\n",
        "from tensorflow.keras.callbacks import EarlyStopping, LambdaCallback\n",
        "\n",
        "%matplotlib inline\n",
        "\n",
        "print(\"Libraries imported.\")\n",
        "print(tf.__version__)"
      ]
    },
    {
      "cell_type": "code",
      "source": [
        "from google.colab import drive\n",
        "drive.mount('/content/drive')"
      ],
      "metadata": {
        "colab": {
          "base_uri": "https://localhost:8080/"
        },
        "id": "ud6oj2AZsjCn",
        "outputId": "14d460d4-1156-400d-9b2a-f29b3762e2a7"
      },
      "execution_count": 2,
      "outputs": [
        {
          "output_type": "stream",
          "name": "stdout",
          "text": [
            "Mounted at /content/drive\n"
          ]
        }
      ]
    },
    {
      "cell_type": "code",
      "source": [
        "path = \"/content/drive/MyDrive/tokyo_cleaned_data_1m.csv\"\n",
        "\n",
        "tokyo_data = pd.read_csv(path, index_col=0)\n",
        "tokyo_data.head()"
      ],
      "metadata": {
        "colab": {
          "base_uri": "https://localhost:8080/",
          "height": 444
        },
        "id": "aWVkvOFkXY2o",
        "outputId": "1081a29d-940d-4170-d516-33bcc736fe5e"
      },
      "execution_count": 3,
      "outputs": [
        {
          "output_type": "execute_result",
          "data": {
            "text/plain": [
              "                           type transaction_period building_structure  \\\n",
              "0  Pre-owned Condominiums, etc.   4th quarter 2020                 RC   \n",
              "1  Pre-owned Condominiums, etc.   4th quarter 2020                 RC   \n",
              "2  Pre-owned Condominiums, etc.   4th quarter 2020                 RC   \n",
              "3  Pre-owned Condominiums, etc.   3rd quarter 2020                 RC   \n",
              "4  Pre-owned Condominiums, etc.   2nd quarter 2020                SRC   \n",
              "\n",
              "     city_planning  construction_year   location nearest_station  \\\n",
              "0  Commercial Zone               2007  Iidabashi       Iidabashi   \n",
              "1  Commercial Zone               2003  Iidabashi       Iidabashi   \n",
              "2  Commercial Zone               2003  Iidabashi       Iidabashi   \n",
              "3  Commercial Zone               2007  Iidabashi       Iidabashi   \n",
              "4  Commercial Zone               1985  Iidabashi       Iidabashi   \n",
              "\n",
              "   distance_to_station  area  building_age  maximum_coverage_ratio  \\\n",
              "0                    5    35            13                     0.8   \n",
              "1                    5    20            17                     0.8   \n",
              "2                    5    20            17                     0.8   \n",
              "3                    4    60            13                     0.8   \n",
              "4                    3    95            35                     0.8   \n",
              "\n",
              "   maximum_floor_area_ratio    price  \n",
              "0                       5.0  4807.32  \n",
              "1                       5.0  1874.04  \n",
              "2                       5.0  2118.48  \n",
              "3                       5.0  7170.24  \n",
              "4                       7.0  4725.84  "
            ],
            "text/html": [
              "\n",
              "  <div id=\"df-d023d621-e61b-40ba-b9cd-62495c7e4bb6\">\n",
              "    <div class=\"colab-df-container\">\n",
              "      <div>\n",
              "<style scoped>\n",
              "    .dataframe tbody tr th:only-of-type {\n",
              "        vertical-align: middle;\n",
              "    }\n",
              "\n",
              "    .dataframe tbody tr th {\n",
              "        vertical-align: top;\n",
              "    }\n",
              "\n",
              "    .dataframe thead th {\n",
              "        text-align: right;\n",
              "    }\n",
              "</style>\n",
              "<table border=\"1\" class=\"dataframe\">\n",
              "  <thead>\n",
              "    <tr style=\"text-align: right;\">\n",
              "      <th></th>\n",
              "      <th>type</th>\n",
              "      <th>transaction_period</th>\n",
              "      <th>building_structure</th>\n",
              "      <th>city_planning</th>\n",
              "      <th>construction_year</th>\n",
              "      <th>location</th>\n",
              "      <th>nearest_station</th>\n",
              "      <th>distance_to_station</th>\n",
              "      <th>area</th>\n",
              "      <th>building_age</th>\n",
              "      <th>maximum_coverage_ratio</th>\n",
              "      <th>maximum_floor_area_ratio</th>\n",
              "      <th>price</th>\n",
              "    </tr>\n",
              "  </thead>\n",
              "  <tbody>\n",
              "    <tr>\n",
              "      <th>0</th>\n",
              "      <td>Pre-owned Condominiums, etc.</td>\n",
              "      <td>4th quarter 2020</td>\n",
              "      <td>RC</td>\n",
              "      <td>Commercial Zone</td>\n",
              "      <td>2007</td>\n",
              "      <td>Iidabashi</td>\n",
              "      <td>Iidabashi</td>\n",
              "      <td>5</td>\n",
              "      <td>35</td>\n",
              "      <td>13</td>\n",
              "      <td>0.8</td>\n",
              "      <td>5.0</td>\n",
              "      <td>4807.32</td>\n",
              "    </tr>\n",
              "    <tr>\n",
              "      <th>1</th>\n",
              "      <td>Pre-owned Condominiums, etc.</td>\n",
              "      <td>4th quarter 2020</td>\n",
              "      <td>RC</td>\n",
              "      <td>Commercial Zone</td>\n",
              "      <td>2003</td>\n",
              "      <td>Iidabashi</td>\n",
              "      <td>Iidabashi</td>\n",
              "      <td>5</td>\n",
              "      <td>20</td>\n",
              "      <td>17</td>\n",
              "      <td>0.8</td>\n",
              "      <td>5.0</td>\n",
              "      <td>1874.04</td>\n",
              "    </tr>\n",
              "    <tr>\n",
              "      <th>2</th>\n",
              "      <td>Pre-owned Condominiums, etc.</td>\n",
              "      <td>4th quarter 2020</td>\n",
              "      <td>RC</td>\n",
              "      <td>Commercial Zone</td>\n",
              "      <td>2003</td>\n",
              "      <td>Iidabashi</td>\n",
              "      <td>Iidabashi</td>\n",
              "      <td>5</td>\n",
              "      <td>20</td>\n",
              "      <td>17</td>\n",
              "      <td>0.8</td>\n",
              "      <td>5.0</td>\n",
              "      <td>2118.48</td>\n",
              "    </tr>\n",
              "    <tr>\n",
              "      <th>3</th>\n",
              "      <td>Pre-owned Condominiums, etc.</td>\n",
              "      <td>3rd quarter 2020</td>\n",
              "      <td>RC</td>\n",
              "      <td>Commercial Zone</td>\n",
              "      <td>2007</td>\n",
              "      <td>Iidabashi</td>\n",
              "      <td>Iidabashi</td>\n",
              "      <td>4</td>\n",
              "      <td>60</td>\n",
              "      <td>13</td>\n",
              "      <td>0.8</td>\n",
              "      <td>5.0</td>\n",
              "      <td>7170.24</td>\n",
              "    </tr>\n",
              "    <tr>\n",
              "      <th>4</th>\n",
              "      <td>Pre-owned Condominiums, etc.</td>\n",
              "      <td>2nd quarter 2020</td>\n",
              "      <td>SRC</td>\n",
              "      <td>Commercial Zone</td>\n",
              "      <td>1985</td>\n",
              "      <td>Iidabashi</td>\n",
              "      <td>Iidabashi</td>\n",
              "      <td>3</td>\n",
              "      <td>95</td>\n",
              "      <td>35</td>\n",
              "      <td>0.8</td>\n",
              "      <td>7.0</td>\n",
              "      <td>4725.84</td>\n",
              "    </tr>\n",
              "  </tbody>\n",
              "</table>\n",
              "</div>\n",
              "      <button class=\"colab-df-convert\" onclick=\"convertToInteractive('df-d023d621-e61b-40ba-b9cd-62495c7e4bb6')\"\n",
              "              title=\"Convert this dataframe to an interactive table.\"\n",
              "              style=\"display:none;\">\n",
              "        \n",
              "  <svg xmlns=\"http://www.w3.org/2000/svg\" height=\"24px\"viewBox=\"0 0 24 24\"\n",
              "       width=\"24px\">\n",
              "    <path d=\"M0 0h24v24H0V0z\" fill=\"none\"/>\n",
              "    <path d=\"M18.56 5.44l.94 2.06.94-2.06 2.06-.94-2.06-.94-.94-2.06-.94 2.06-2.06.94zm-11 1L8.5 8.5l.94-2.06 2.06-.94-2.06-.94L8.5 2.5l-.94 2.06-2.06.94zm10 10l.94 2.06.94-2.06 2.06-.94-2.06-.94-.94-2.06-.94 2.06-2.06.94z\"/><path d=\"M17.41 7.96l-1.37-1.37c-.4-.4-.92-.59-1.43-.59-.52 0-1.04.2-1.43.59L10.3 9.45l-7.72 7.72c-.78.78-.78 2.05 0 2.83L4 21.41c.39.39.9.59 1.41.59.51 0 1.02-.2 1.41-.59l7.78-7.78 2.81-2.81c.8-.78.8-2.07 0-2.86zM5.41 20L4 18.59l7.72-7.72 1.47 1.35L5.41 20z\"/>\n",
              "  </svg>\n",
              "      </button>\n",
              "      \n",
              "  <style>\n",
              "    .colab-df-container {\n",
              "      display:flex;\n",
              "      flex-wrap:wrap;\n",
              "      gap: 12px;\n",
              "    }\n",
              "\n",
              "    .colab-df-convert {\n",
              "      background-color: #E8F0FE;\n",
              "      border: none;\n",
              "      border-radius: 50%;\n",
              "      cursor: pointer;\n",
              "      display: none;\n",
              "      fill: #1967D2;\n",
              "      height: 32px;\n",
              "      padding: 0 0 0 0;\n",
              "      width: 32px;\n",
              "    }\n",
              "\n",
              "    .colab-df-convert:hover {\n",
              "      background-color: #E2EBFA;\n",
              "      box-shadow: 0px 1px 2px rgba(60, 64, 67, 0.3), 0px 1px 3px 1px rgba(60, 64, 67, 0.15);\n",
              "      fill: #174EA6;\n",
              "    }\n",
              "\n",
              "    [theme=dark] .colab-df-convert {\n",
              "      background-color: #3B4455;\n",
              "      fill: #D2E3FC;\n",
              "    }\n",
              "\n",
              "    [theme=dark] .colab-df-convert:hover {\n",
              "      background-color: #434B5C;\n",
              "      box-shadow: 0px 1px 3px 1px rgba(0, 0, 0, 0.15);\n",
              "      filter: drop-shadow(0px 1px 2px rgba(0, 0, 0, 0.3));\n",
              "      fill: #FFFFFF;\n",
              "    }\n",
              "  </style>\n",
              "\n",
              "      <script>\n",
              "        const buttonEl =\n",
              "          document.querySelector('#df-d023d621-e61b-40ba-b9cd-62495c7e4bb6 button.colab-df-convert');\n",
              "        buttonEl.style.display =\n",
              "          google.colab.kernel.accessAllowed ? 'block' : 'none';\n",
              "\n",
              "        async function convertToInteractive(key) {\n",
              "          const element = document.querySelector('#df-d023d621-e61b-40ba-b9cd-62495c7e4bb6');\n",
              "          const dataTable =\n",
              "            await google.colab.kernel.invokeFunction('convertToInteractive',\n",
              "                                                     [key], {});\n",
              "          if (!dataTable) return;\n",
              "\n",
              "          const docLinkHtml = 'Like what you see? Visit the ' +\n",
              "            '<a target=\"_blank\" href=https://colab.research.google.com/notebooks/data_table.ipynb>data table notebook</a>'\n",
              "            + ' to learn more about interactive tables.';\n",
              "          element.innerHTML = '';\n",
              "          dataTable['output_type'] = 'display_data';\n",
              "          await google.colab.output.renderOutput(dataTable, element);\n",
              "          const docLink = document.createElement('div');\n",
              "          docLink.innerHTML = docLinkHtml;\n",
              "          element.appendChild(docLink);\n",
              "        }\n",
              "      </script>\n",
              "    </div>\n",
              "  </div>\n",
              "  "
            ]
          },
          "metadata": {},
          "execution_count": 3
        }
      ]
    },
    {
      "cell_type": "code",
      "source": [
        "tokyo_data.info()"
      ],
      "metadata": {
        "colab": {
          "base_uri": "https://localhost:8080/"
        },
        "id": "l1AYNzhZXYhu",
        "outputId": "6f4adcec-00be-4e01-f778-0a163afce238"
      },
      "execution_count": 4,
      "outputs": [
        {
          "output_type": "stream",
          "name": "stdout",
          "text": [
            "<class 'pandas.core.frame.DataFrame'>\n",
            "Int64Index: 132367 entries, 0 to 132366\n",
            "Data columns (total 13 columns):\n",
            " #   Column                    Non-Null Count   Dtype  \n",
            "---  ------                    --------------   -----  \n",
            " 0   type                      132367 non-null  object \n",
            " 1   transaction_period        132367 non-null  object \n",
            " 2   building_structure        132367 non-null  object \n",
            " 3   city_planning             132367 non-null  object \n",
            " 4   construction_year         132367 non-null  int64  \n",
            " 5   location                  132367 non-null  object \n",
            " 6   nearest_station           132361 non-null  object \n",
            " 7   distance_to_station       132367 non-null  int64  \n",
            " 8   area                      132367 non-null  int64  \n",
            " 9   building_age              132367 non-null  int64  \n",
            " 10  maximum_coverage_ratio    132367 non-null  float64\n",
            " 11  maximum_floor_area_ratio  132367 non-null  float64\n",
            " 12  price                     132367 non-null  float64\n",
            "dtypes: float64(3), int64(4), object(6)\n",
            "memory usage: 14.1+ MB\n"
          ]
        }
      ]
    },
    {
      "cell_type": "code",
      "source": [
        "selected_columns = [\"location\",\"building_structure\",\"nearest_station\",\"distance_to_station\",\n",
        "                    \"area\",\"maximum_coverage_ratio\",\n",
        "                    \"maximum_floor_area_ratio\",\"building_age\",\"price\"]\n",
        "\n",
        "num_attributes = [\"distance_to_station\",\"area\",\"maximum_coverage_ratio\",\n",
        "                    \"maximum_floor_area_ratio\",\"building_age\"]\n",
        "\n",
        "cat_attributes = [\"building_structure\",\"location\",\"nearest_station\"]\n",
        "\n",
        "label = \"price\""
      ],
      "metadata": {
        "id": "dFLepRfWYHtQ"
      },
      "execution_count": 5,
      "outputs": []
    },
    {
      "cell_type": "code",
      "source": [
        "dataset = tokyo_data[selected_columns].copy()"
      ],
      "metadata": {
        "id": "jNqU8QEuYLWa"
      },
      "execution_count": 6,
      "outputs": []
    },
    {
      "cell_type": "code",
      "source": [
        "# historgram plots\n",
        "\n",
        "dataset.hist(bins=50, figsize=(20,15))\n",
        "plt.show()"
      ],
      "metadata": {
        "colab": {
          "base_uri": "https://localhost:8080/",
          "height": 621
        },
        "id": "7-EdEQnwYNfR",
        "outputId": "bf6700bf-4fef-4c79-fe64-1bdb09b64e50"
      },
      "execution_count": 7,
      "outputs": [
        {
          "output_type": "display_data",
          "data": {
            "text/plain": [
              "<Figure size 1440x1080 with 6 Axes>"
            ],
            "image/png": "[encoded data removed]"
          },
          "metadata": {
            "needs_background": "light"
          }
        }
      ]
    },
    {
      "cell_type": "code",
      "source": [
        "# check for correlations \n",
        "\n",
        "corr_matrix = dataset.corr()\n",
        "print(corr_matrix[\"price\"].sort_values(ascending=False))"
      ],
      "metadata": {
        "colab": {
          "base_uri": "https://localhost:8080/"
        },
        "id": "7X-jcJyJYX4w",
        "outputId": "14195fe7-9ea9-4441-9bc9-8305111944ed"
      },
      "execution_count": 8,
      "outputs": [
        {
          "output_type": "stream",
          "name": "stdout",
          "text": [
            "price                       1.000000\n",
            "area                        0.559640\n",
            "maximum_floor_area_ratio    0.022242\n",
            "maximum_coverage_ratio     -0.049715\n",
            "distance_to_station        -0.059818\n",
            "building_age               -0.205134\n",
            "Name: price, dtype: float64\n"
          ]
        }
      ]
    },
    {
      "cell_type": "code",
      "source": [
        "scatter_matrix(dataset, figsize=(14, 12))"
      ],
      "metadata": {
        "colab": {
          "base_uri": "https://localhost:8080/",
          "height": 1000
        },
        "id": "CpE-d9HNYaM8",
        "outputId": "6f3d378b-d3b4-40ba-a8fc-b3f8c6f102c9"
      },
      "execution_count": 9,
      "outputs": [
        {
          "output_type": "execute_result",
          "data": {
            "text/plain": [
              "array([[<matplotlib.axes._subplots.AxesSubplot object at 0x7f393af45910>,\n",
              "        <matplotlib.axes._subplots.AxesSubplot object at 0x7f393aedb7d0>,\n",
              "        <matplotlib.axes._subplots.AxesSubplot object at 0x7f393aef7dd0>,\n",
              "        <matplotlib.axes._subplots.AxesSubplot object at 0x7f393aeb5410>,\n",
              "        <matplotlib.axes._subplots.AxesSubplot object at 0x7f393ae6ca10>,\n",
              "        <matplotlib.axes._subplots.AxesSubplot object at 0x7f393ae23fd0>],\n",
              "       [<matplotlib.axes._subplots.AxesSubplot object at 0x7f393ade46d0>,\n",
              "        <matplotlib.axes._subplots.AxesSubplot object at 0x7f393ad9e7d0>,\n",
              "        <matplotlib.axes._subplots.AxesSubplot object at 0x7f393ad9e810>,\n",
              "        <matplotlib.axes._subplots.AxesSubplot object at 0x7f393ad53e10>,\n",
              "        <matplotlib.axes._subplots.AxesSubplot object at 0x7f393acd0750>,\n",
              "        <matplotlib.axes._subplots.AxesSubplot object at 0x7f393ad06c50>],\n",
              "       [<matplotlib.axes._subplots.AxesSubplot object at 0x7f393ac49190>,\n",
              "        <matplotlib.axes._subplots.AxesSubplot object at 0x7f393ac7f690>,\n",
              "        <matplotlib.axes._subplots.AxesSubplot object at 0x7f393ac35b90>,\n",
              "        <matplotlib.axes._subplots.AxesSubplot object at 0x7f393abfa0d0>,\n",
              "        <matplotlib.axes._subplots.AxesSubplot object at 0x7f393abb05d0>,\n",
              "        <matplotlib.axes._subplots.AxesSubplot object at 0x7f393ab67ad0>],\n",
              "       [<matplotlib.axes._subplots.AxesSubplot object at 0x7f393ab13b10>,\n",
              "        <matplotlib.axes._subplots.AxesSubplot object at 0x7f393aae2510>,\n",
              "        <matplotlib.axes._subplots.AxesSubplot object at 0x7f393aa97a10>,\n",
              "        <matplotlib.axes._subplots.AxesSubplot object at 0x7f393aa4df10>,\n",
              "        <matplotlib.axes._subplots.AxesSubplot object at 0x7f393aa10450>,\n",
              "        <matplotlib.axes._subplots.AxesSubplot object at 0x7f393aa47950>],\n",
              "       [<matplotlib.axes._subplots.AxesSubplot object at 0x7f393a9fde50>,\n",
              "        <matplotlib.axes._subplots.AxesSubplot object at 0x7f393a9c2390>,\n",
              "        <matplotlib.axes._subplots.AxesSubplot object at 0x7f393a977890>,\n",
              "        <matplotlib.axes._subplots.AxesSubplot object at 0x7f393a930d90>,\n",
              "        <matplotlib.axes._subplots.AxesSubplot object at 0x7f393a8f22d0>,\n",
              "        <matplotlib.axes._subplots.AxesSubplot object at 0x7f393a8a97d0>],\n",
              "       [<matplotlib.axes._subplots.AxesSubplot object at 0x7f393a85fcd0>,\n",
              "        <matplotlib.axes._subplots.AxesSubplot object at 0x7f393a823210>,\n",
              "        <matplotlib.axes._subplots.AxesSubplot object at 0x7f393a7d9710>,\n",
              "        <matplotlib.axes._subplots.AxesSubplot object at 0x7f393a790c10>,\n",
              "        <matplotlib.axes._subplots.AxesSubplot object at 0x7f393a754150>,\n",
              "        <matplotlib.axes._subplots.AxesSubplot object at 0x7f393a70b650>]],\n",
              "      dtype=object)"
            ]
          },
          "metadata": {},
          "execution_count": 9
        },
        {
          "output_type": "display_data",
          "data": {
            "text/plain": [
              "<Figure size 1008x864 with 36 Axes>"
            ],
            "image/png": "[encoded data removed]"
          },
          "metadata": {
            "needs_background": "light"
          }
        }
      ]
    },
    {
      "cell_type": "code",
      "source": [
        "# split the dataset\n",
        "\n",
        "train_set, test_set = train_test_split(dataset, test_size=0.1, random_state=42)\n",
        "print(len(train_set))\n",
        "print(len(test_set))"
      ],
      "metadata": {
        "colab": {
          "base_uri": "https://localhost:8080/"
        },
        "id": "XnERkQEIYkk3",
        "outputId": "06583d14-e906-4bbd-89b6-3318d7925a37"
      },
      "execution_count": 10,
      "outputs": [
        {
          "output_type": "stream",
          "name": "stdout",
          "text": [
            "119130\n",
            "13237\n"
          ]
        }
      ]
    },
    {
      "cell_type": "markdown",
      "source": [
        "# Linear Regression Models\n"
      ],
      "metadata": {
        "id": "yLgOisfbPtQC"
      }
    },
    {
      "cell_type": "code",
      "source": [
        "def lin_reg(x):\n",
        "    lm = LinearRegression()\n",
        "\n",
        "    pearson_coef, p_value = stats.pearsonr(train_set[x], train_set[\"price\"])\n",
        "    print(\"Pearson Coefficient =\",pearson_coef, \"and P-value =\", p_value)\n",
        "    print(\"\")\n",
        "\n",
        "    lm.fit(train_set[[x]], train_set[\"price\"])\n",
        "\n",
        "    print(\"Slope: \", lm.coef_)\n",
        "    print(\"Intercept: \", lm.intercept_)\n",
        "    print(\"\")\n",
        "    if float(lm.coef_) >= 0:\n",
        "        print(\"Linear Model: price =\", lm.intercept_, \"+\", float(lm.coef_), \"*\", x)\n",
        "    else:\n",
        "        print(\"Linear Model: price =\", lm.intercept_, float(lm.coef_), \"*\", x)"
      ],
      "metadata": {
        "id": "XKGGsDtBPmrd"
      },
      "execution_count": 11,
      "outputs": []
    },
    {
      "cell_type": "code",
      "source": [
        "area_lm = lin_reg(\"area\")"
      ],
      "metadata": {
        "colab": {
          "base_uri": "https://localhost:8080/"
        },
        "id": "xKgt4g7ePmeN",
        "outputId": "a89a8ac9-d0a9-44b4-9fbd-8e77686bc3db"
      },
      "execution_count": 12,
      "outputs": [
        {
          "output_type": "stream",
          "name": "stdout",
          "text": [
            "Pearson Coefficient = 0.567038325588464 and P-value = 0.0\n",
            "\n",
            "Slope:  [68.30001686]\n",
            "Intercept:  -458.08724726037826\n",
            "\n",
            "Linear Model: price = -458.08724726037826 + 68.30001685502293 * area\n"
          ]
        }
      ]
    },
    {
      "cell_type": "code",
      "source": [
        "building_age_lm = lin_reg(\"building_age\")"
      ],
      "metadata": {
        "colab": {
          "base_uri": "https://localhost:8080/"
        },
        "id": "-G-sznraPmQO",
        "outputId": "46e8d76c-302d-4e62-f94a-983b4b390545"
      },
      "execution_count": 13,
      "outputs": [
        {
          "output_type": "stream",
          "name": "stdout",
          "text": [
            "Pearson Coefficient = -0.20510192069503846 and P-value = 0.0\n",
            "\n",
            "Slope:  [-54.78921813]\n",
            "Intercept:  3957.1288811455197\n",
            "\n",
            "Linear Model: price = 3957.1288811455197 -54.78921813427132 * building_age\n"
          ]
        }
      ]
    },
    {
      "cell_type": "code",
      "source": [
        "time_to_station = lin_reg(\"distance_to_station\")"
      ],
      "metadata": {
        "colab": {
          "base_uri": "https://localhost:8080/"
        },
        "id": "z2m8HG7qPmBw",
        "outputId": "fdc65390-18d3-46cd-9df7-1907e22daf1e"
      },
      "execution_count": 14,
      "outputs": [
        {
          "output_type": "stream",
          "name": "stdout",
          "text": [
            "Pearson Coefficient = -0.05932828714515012 and P-value = 2.3798003566076054e-93\n",
            "\n",
            "Slope:  [-34.06922357]\n",
            "Intercept:  3044.071668827689\n",
            "\n",
            "Linear Model: price = 3044.071668827689 -34.069223570601096 * distance_to_station\n"
          ]
        }
      ]
    },
    {
      "cell_type": "markdown",
      "source": [
        "# Multiple Linear Regression Model"
      ],
      "metadata": {
        "id": "B1C8oNVzQHnP"
      }
    },
    {
      "cell_type": "code",
      "source": [
        "# Multiple linear regression model using all numerical attributes. \n",
        "\n",
        "mul_reg = LinearRegression()\n",
        "\n",
        "mul_reg.fit(train_set[num_attributes], train_set[label])\n",
        "\n",
        "print(\"Slope: \", mul_reg.coef_)\n",
        "print(\"Intercept: \", mul_reg.intercept_)"
      ],
      "metadata": {
        "colab": {
          "base_uri": "https://localhost:8080/"
        },
        "id": "4NGvnjExPlxA",
        "outputId": "1786ab28-1356-4b5a-8c3b-23763b0dd198"
      },
      "execution_count": 15,
      "outputs": [
        {
          "output_type": "stream",
          "name": "stdout",
          "text": [
            "Slope:  [  -70.01482571    73.74301814 -1286.31584107   298.60047701\n",
            "   -49.27213558]\n",
            "Intercept:  696.7505963005428\n"
          ]
        }
      ]
    },
    {
      "cell_type": "code",
      "source": [
        "lin_predictions = mul_reg.predict(train_set[num_attributes])\n",
        "lin_mse = mean_squared_error(train_set[label], lin_predictions)\n",
        "lin_rmse = np.sqrt(lin_mse)\n",
        "print(\"Prediction error: $\",int(lin_rmse))"
      ],
      "metadata": {
        "colab": {
          "base_uri": "https://localhost:8080/"
        },
        "id": "RLlk4cp1QQR0",
        "outputId": "fed6c3bb-4237-42fa-b850-00a9f2d4e740"
      },
      "execution_count": 16,
      "outputs": [
        {
          "output_type": "stream",
          "name": "stdout",
          "text": [
            "Prediction error: $ 2555\n"
          ]
        }
      ]
    },
    {
      "cell_type": "code",
      "source": [
        "# function that compares predictions vs actual values\n",
        "\n",
        "def plot_com(actual, preds):\n",
        "    plt.figure(figsize=(12, 8))\n",
        "\n",
        "    ax1 = sns.distplot(actual, hist=False, color=\"r\", label=\"Actual Value\")\n",
        "    sns.distplot(preds, hist=False, color=\"b\", label=\"Fitted Values\" , ax=ax1)\n",
        "\n",
        "    plt.title('Actual vs Fitted Values for Price')\n",
        "    plt.xlabel('Price (in dollars)')\n",
        "\n",
        "    plt.show()\n",
        "    plt.close()"
      ],
      "metadata": {
        "id": "K2GqBOLzQUvW"
      },
      "execution_count": 17,
      "outputs": []
    },
    {
      "cell_type": "code",
      "source": [
        "plot_com(train_set[label], lin_predictions)"
      ],
      "metadata": {
        "colab": {
          "base_uri": "https://localhost:8080/",
          "height": 606
        },
        "id": "KfIDlJCGQYT_",
        "outputId": "cd202677-208c-4e8b-82dc-3cb59770e0ea"
      },
      "execution_count": 18,
      "outputs": [
        {
          "output_type": "stream",
          "name": "stderr",
          "text": [
            "/usr/local/lib/python3.7/dist-packages/seaborn/distributions.py:2619: FutureWarning: `distplot` is a deprecated function and will be removed in a future version. Please adapt your code to use either `displot` (a figure-level function with similar flexibility) or `kdeplot` (an axes-level function for kernel density plots).\n",
            "  warnings.warn(msg, FutureWarning)\n",
            "/usr/local/lib/python3.7/dist-packages/seaborn/distributions.py:2619: FutureWarning: `distplot` is a deprecated function and will be removed in a future version. Please adapt your code to use either `displot` (a figure-level function with similar flexibility) or `kdeplot` (an axes-level function for kernel density plots).\n",
            "  warnings.warn(msg, FutureWarning)\n"
          ]
        },
        {
          "output_type": "display_data",
          "data": {
            "text/plain": [
              "<Figure size 864x576 with 1 Axes>"
            ],
            "image/png": "[encoded data removed]"
          },
          "metadata": {
            "needs_background": "light"
          }
        }
      ]
    },
    {
      "cell_type": "markdown",
      "source": [
        "# Decision Tree Regression Model\n"
      ],
      "metadata": {
        "id": "Mg7Yai7IQfDT"
      }
    },
    {
      "cell_type": "code",
      "source": [
        "tree_reg = DecisionTreeRegressor(random_state=42)\n",
        "tree_reg.fit(train_set[num_attributes], train_set[label])"
      ],
      "metadata": {
        "colab": {
          "base_uri": "https://localhost:8080/"
        },
        "id": "TLfT2KRpQbtH",
        "outputId": "9705ccb3-aee2-451e-fc71-fdb9d97a7ebf"
      },
      "execution_count": 19,
      "outputs": [
        {
          "output_type": "execute_result",
          "data": {
            "text/plain": [
              "DecisionTreeRegressor(random_state=42)"
            ]
          },
          "metadata": {},
          "execution_count": 19
        }
      ]
    },
    {
      "cell_type": "code",
      "source": [
        "tree_predictions = tree_reg.predict(train_set[num_attributes])\n",
        "tree_mse = mean_squared_error(train_set[label], tree_predictions)\n",
        "tree_rmse = np.sqrt(tree_mse)\n",
        "print(\"Prediction error: $\",int(tree_rmse))"
      ],
      "metadata": {
        "colab": {
          "base_uri": "https://localhost:8080/"
        },
        "id": "uwWGAxzdQmou",
        "outputId": "e5930c0a-7ea6-4713-9507-f5a96aef9944"
      },
      "execution_count": 20,
      "outputs": [
        {
          "output_type": "stream",
          "name": "stdout",
          "text": [
            "Prediction error: $ 980\n"
          ]
        }
      ]
    },
    {
      "cell_type": "code",
      "source": [
        "plot_com(train_set[label], tree_predictions)"
      ],
      "metadata": {
        "colab": {
          "base_uri": "https://localhost:8080/",
          "height": 606
        },
        "id": "Tzc2V6N0Qp9s",
        "outputId": "19adc1ff-3b08-49cc-8f13-395ae55d55a8"
      },
      "execution_count": 21,
      "outputs": [
        {
          "output_type": "stream",
          "name": "stderr",
          "text": [
            "/usr/local/lib/python3.7/dist-packages/seaborn/distributions.py:2619: FutureWarning: `distplot` is a deprecated function and will be removed in a future version. Please adapt your code to use either `displot` (a figure-level function with similar flexibility) or `kdeplot` (an axes-level function for kernel density plots).\n",
            "  warnings.warn(msg, FutureWarning)\n",
            "/usr/local/lib/python3.7/dist-packages/seaborn/distributions.py:2619: FutureWarning: `distplot` is a deprecated function and will be removed in a future version. Please adapt your code to use either `displot` (a figure-level function with similar flexibility) or `kdeplot` (an axes-level function for kernel density plots).\n",
            "  warnings.warn(msg, FutureWarning)\n"
          ]
        },
        {
          "output_type": "display_data",
          "data": {
            "text/plain": [
              "<Figure size 864x576 with 1 Axes>"
            ],
            "image/png": "[encoded data removed]"
          },
          "metadata": {
            "needs_background": "light"
          }
        }
      ]
    },
    {
      "cell_type": "markdown",
      "source": [
        "# Random Forest Regression Model\n"
      ],
      "metadata": {
        "id": "aBtofpAqQuwo"
      }
    },
    {
      "cell_type": "code",
      "source": [
        "forest_reg = RandomForestRegressor(n_estimators=100, random_state=42)\n",
        "forest_reg.fit(train_set[num_attributes], train_set[label])"
      ],
      "metadata": {
        "colab": {
          "base_uri": "https://localhost:8080/"
        },
        "id": "vQ5WzF3CQwbx",
        "outputId": "fe14161f-9426-451a-918b-010ce4696205"
      },
      "execution_count": 22,
      "outputs": [
        {
          "output_type": "execute_result",
          "data": {
            "text/plain": [
              "RandomForestRegressor(random_state=42)"
            ]
          },
          "metadata": {},
          "execution_count": 22
        }
      ]
    },
    {
      "cell_type": "code",
      "source": [
        "forest_predictions = forest_reg.predict(train_set[num_attributes])\n",
        "forest_mse = mean_squared_error(train_set[label], forest_predictions)\n",
        "forest_rmse = np.sqrt(forest_mse)\n",
        "print(\"Prediction error: $\",int(forest_rmse))"
      ],
      "metadata": {
        "colab": {
          "base_uri": "https://localhost:8080/"
        },
        "id": "Ll1c8g_qQ3Pl",
        "outputId": "a3975840-ae74-49e2-bd1a-2b1997f47c89"
      },
      "execution_count": 23,
      "outputs": [
        {
          "output_type": "stream",
          "name": "stdout",
          "text": [
            "Prediction error: $ 1278\n"
          ]
        }
      ]
    },
    {
      "cell_type": "code",
      "source": [
        "plot_com(train_set[label], forest_predictions)"
      ],
      "metadata": {
        "colab": {
          "base_uri": "https://localhost:8080/",
          "height": 606
        },
        "id": "3IZvjyubQ6rV",
        "outputId": "da5eacf6-e138-4187-8c8e-d19261924a75"
      },
      "execution_count": 24,
      "outputs": [
        {
          "output_type": "stream",
          "name": "stderr",
          "text": [
            "/usr/local/lib/python3.7/dist-packages/seaborn/distributions.py:2619: FutureWarning: `distplot` is a deprecated function and will be removed in a future version. Please adapt your code to use either `displot` (a figure-level function with similar flexibility) or `kdeplot` (an axes-level function for kernel density plots).\n",
            "  warnings.warn(msg, FutureWarning)\n",
            "/usr/local/lib/python3.7/dist-packages/seaborn/distributions.py:2619: FutureWarning: `distplot` is a deprecated function and will be removed in a future version. Please adapt your code to use either `displot` (a figure-level function with similar flexibility) or `kdeplot` (an axes-level function for kernel density plots).\n",
            "  warnings.warn(msg, FutureWarning)\n"
          ]
        },
        {
          "output_type": "display_data",
          "data": {
            "text/plain": [
              "<Figure size 864x576 with 1 Axes>"
            ],
            "image/png": "[encoded data removed]"
          },
          "metadata": {
            "needs_background": "light"
          }
        }
      ]
    },
    {
      "cell_type": "markdown",
      "source": [
        "# Linear Regression Model with Polynomial Features\n"
      ],
      "metadata": {
        "id": "zwt_q3LAQ_7D"
      }
    },
    {
      "cell_type": "code",
      "source": [
        "input = [(\"scale\",StandardScaler()),\n",
        "         (\"polynomial\",PolynomialFeatures(include_bias=False)),\n",
        "         (\"model\",LinearRegression())]\n",
        "\n",
        "pipe = Pipeline(input)\n",
        "pipe.fit(train_set[num_attributes], train_set[label])"
      ],
      "metadata": {
        "colab": {
          "base_uri": "https://localhost:8080/"
        },
        "id": "iSRZ83OjQ9IB",
        "outputId": "4111b560-05ea-449b-c155-0138275a59ae"
      },
      "execution_count": 25,
      "outputs": [
        {
          "output_type": "execute_result",
          "data": {
            "text/plain": [
              "Pipeline(steps=[('scale', StandardScaler()),\n",
              "                ('polynomial', PolynomialFeatures(include_bias=False)),\n",
              "                ('model', LinearRegression())])"
            ]
          },
          "metadata": {},
          "execution_count": 25
        }
      ]
    },
    {
      "cell_type": "code",
      "source": [
        "pipe_predictions = pipe.predict(train_set[num_attributes])\n",
        "pipe_mse = mean_squared_error(train_set[label], pipe_predictions)\n",
        "pipe_rmse = np.sqrt(pipe_mse)\n",
        "print(\"Prediction error: $\",int(pipe_rmse))"
      ],
      "metadata": {
        "colab": {
          "base_uri": "https://localhost:8080/"
        },
        "id": "XvQ8MTcNRHX0",
        "outputId": "e2d49b81-29cb-4543-b152-8eaa85f4673d"
      },
      "execution_count": 26,
      "outputs": [
        {
          "output_type": "stream",
          "name": "stdout",
          "text": [
            "Prediction error: $ 2015\n"
          ]
        }
      ]
    },
    {
      "cell_type": "code",
      "source": [
        "plot_com(train_set[label], pipe_predictions)"
      ],
      "metadata": {
        "colab": {
          "base_uri": "https://localhost:8080/",
          "height": 606
        },
        "id": "tC5aKWO5RLad",
        "outputId": "03d8c77a-f0d2-444d-d347-5c4103f4575c"
      },
      "execution_count": 27,
      "outputs": [
        {
          "output_type": "stream",
          "name": "stderr",
          "text": [
            "/usr/local/lib/python3.7/dist-packages/seaborn/distributions.py:2619: FutureWarning: `distplot` is a deprecated function and will be removed in a future version. Please adapt your code to use either `displot` (a figure-level function with similar flexibility) or `kdeplot` (an axes-level function for kernel density plots).\n",
            "  warnings.warn(msg, FutureWarning)\n",
            "/usr/local/lib/python3.7/dist-packages/seaborn/distributions.py:2619: FutureWarning: `distplot` is a deprecated function and will be removed in a future version. Please adapt your code to use either `displot` (a figure-level function with similar flexibility) or `kdeplot` (an axes-level function for kernel density plots).\n",
            "  warnings.warn(msg, FutureWarning)\n"
          ]
        },
        {
          "output_type": "display_data",
          "data": {
            "text/plain": [
              "<Figure size 864x576 with 1 Axes>"
            ],
            "image/png": "[encoded data removed]"
          },
          "metadata": {
            "needs_background": "light"
          }
        }
      ]
    },
    {
      "cell_type": "markdown",
      "source": [
        "# Deep Neural Network Regression Model\n"
      ],
      "metadata": {
        "id": "hKhjxwBVRVQJ"
      }
    },
    {
      "cell_type": "code",
      "source": [
        "# import normalized data for DNN model\n",
        "\n",
        "path = \"/content/drive/MyDrive/tokyo_data_norm_1m.csv\"\n",
        "\n",
        "norm_data = pd.read_csv(path, index_col=0)\n",
        "\n",
        "norm_dataset = norm_data.copy()\n",
        "norm_dataset.head(2)"
      ],
      "metadata": {
        "colab": {
          "base_uri": "https://localhost:8080/",
          "height": 156
        },
        "id": "QXxCVobSRW1A",
        "outputId": "45d7ca55-127b-4106-e524-420564bea044"
      },
      "execution_count": 29,
      "outputs": [
        {
          "output_type": "execute_result",
          "data": {
            "text/plain": [
              "   distance_to_station      area  maximum_coverage_ratio  \\\n",
              "0                 0.05  0.012563                     1.0   \n",
              "1                 0.05  0.005025                     1.0   \n",
              "\n",
              "   maximum_floor_area_ratio  building_age     price  \n",
              "0                      0.36      0.197368  0.006833  \n",
              "1                      0.36      0.250000  0.002647  "
            ],
            "text/html": [
              "\n",
              "  <div id=\"df-e10cb3e5-3592-476d-97ff-40f093757714\">\n",
              "    <div class=\"colab-df-container\">\n",
              "      <div>\n",
              "<style scoped>\n",
              "    .dataframe tbody tr th:only-of-type {\n",
              "        vertical-align: middle;\n",
              "    }\n",
              "\n",
              "    .dataframe tbody tr th {\n",
              "        vertical-align: top;\n",
              "    }\n",
              "\n",
              "    .dataframe thead th {\n",
              "        text-align: right;\n",
              "    }\n",
              "</style>\n",
              "<table border=\"1\" class=\"dataframe\">\n",
              "  <thead>\n",
              "    <tr style=\"text-align: right;\">\n",
              "      <th></th>\n",
              "      <th>distance_to_station</th>\n",
              "      <th>area</th>\n",
              "      <th>maximum_coverage_ratio</th>\n",
              "      <th>maximum_floor_area_ratio</th>\n",
              "      <th>building_age</th>\n",
              "      <th>price</th>\n",
              "    </tr>\n",
              "  </thead>\n",
              "  <tbody>\n",
              "    <tr>\n",
              "      <th>0</th>\n",
              "      <td>0.05</td>\n",
              "      <td>0.012563</td>\n",
              "      <td>1.0</td>\n",
              "      <td>0.36</td>\n",
              "      <td>0.197368</td>\n",
              "      <td>0.006833</td>\n",
              "    </tr>\n",
              "    <tr>\n",
              "      <th>1</th>\n",
              "      <td>0.05</td>\n",
              "      <td>0.005025</td>\n",
              "      <td>1.0</td>\n",
              "      <td>0.36</td>\n",
              "      <td>0.250000</td>\n",
              "      <td>0.002647</td>\n",
              "    </tr>\n",
              "  </tbody>\n",
              "</table>\n",
              "</div>\n",
              "      <button class=\"colab-df-convert\" onclick=\"convertToInteractive('df-e10cb3e5-3592-476d-97ff-40f093757714')\"\n",
              "              title=\"Convert this dataframe to an interactive table.\"\n",
              "              style=\"display:none;\">\n",
              "        \n",
              "  <svg xmlns=\"http://www.w3.org/2000/svg\" height=\"24px\"viewBox=\"0 0 24 24\"\n",
              "       width=\"24px\">\n",
              "    <path d=\"M0 0h24v24H0V0z\" fill=\"none\"/>\n",
              "    <path d=\"M18.56 5.44l.94 2.06.94-2.06 2.06-.94-2.06-.94-.94-2.06-.94 2.06-2.06.94zm-11 1L8.5 8.5l.94-2.06 2.06-.94-2.06-.94L8.5 2.5l-.94 2.06-2.06.94zm10 10l.94 2.06.94-2.06 2.06-.94-2.06-.94-.94-2.06-.94 2.06-2.06.94z\"/><path d=\"M17.41 7.96l-1.37-1.37c-.4-.4-.92-.59-1.43-.59-.52 0-1.04.2-1.43.59L10.3 9.45l-7.72 7.72c-.78.78-.78 2.05 0 2.83L4 21.41c.39.39.9.59 1.41.59.51 0 1.02-.2 1.41-.59l7.78-7.78 2.81-2.81c.8-.78.8-2.07 0-2.86zM5.41 20L4 18.59l7.72-7.72 1.47 1.35L5.41 20z\"/>\n",
              "  </svg>\n",
              "      </button>\n",
              "      \n",
              "  <style>\n",
              "    .colab-df-container {\n",
              "      display:flex;\n",
              "      flex-wrap:wrap;\n",
              "      gap: 12px;\n",
              "    }\n",
              "\n",
              "    .colab-df-convert {\n",
              "      background-color: #E8F0FE;\n",
              "      border: none;\n",
              "      border-radius: 50%;\n",
              "      cursor: pointer;\n",
              "      display: none;\n",
              "      fill: #1967D2;\n",
              "      height: 32px;\n",
              "      padding: 0 0 0 0;\n",
              "      width: 32px;\n",
              "    }\n",
              "\n",
              "    .colab-df-convert:hover {\n",
              "      background-color: #E2EBFA;\n",
              "      box-shadow: 0px 1px 2px rgba(60, 64, 67, 0.3), 0px 1px 3px 1px rgba(60, 64, 67, 0.15);\n",
              "      fill: #174EA6;\n",
              "    }\n",
              "\n",
              "    [theme=dark] .colab-df-convert {\n",
              "      background-color: #3B4455;\n",
              "      fill: #D2E3FC;\n",
              "    }\n",
              "\n",
              "    [theme=dark] .colab-df-convert:hover {\n",
              "      background-color: #434B5C;\n",
              "      box-shadow: 0px 1px 3px 1px rgba(0, 0, 0, 0.15);\n",
              "      filter: drop-shadow(0px 1px 2px rgba(0, 0, 0, 0.3));\n",
              "      fill: #FFFFFF;\n",
              "    }\n",
              "  </style>\n",
              "\n",
              "      <script>\n",
              "        const buttonEl =\n",
              "          document.querySelector('#df-e10cb3e5-3592-476d-97ff-40f093757714 button.colab-df-convert');\n",
              "        buttonEl.style.display =\n",
              "          google.colab.kernel.accessAllowed ? 'block' : 'none';\n",
              "\n",
              "        async function convertToInteractive(key) {\n",
              "          const element = document.querySelector('#df-e10cb3e5-3592-476d-97ff-40f093757714');\n",
              "          const dataTable =\n",
              "            await google.colab.kernel.invokeFunction('convertToInteractive',\n",
              "                                                     [key], {});\n",
              "          if (!dataTable) return;\n",
              "\n",
              "          const docLinkHtml = 'Like what you see? Visit the ' +\n",
              "            '<a target=\"_blank\" href=https://colab.research.google.com/notebooks/data_table.ipynb>data table notebook</a>'\n",
              "            + ' to learn more about interactive tables.';\n",
              "          element.innerHTML = '';\n",
              "          dataTable['output_type'] = 'display_data';\n",
              "          await google.colab.output.renderOutput(dataTable, element);\n",
              "          const docLink = document.createElement('div');\n",
              "          docLink.innerHTML = docLinkHtml;\n",
              "          element.appendChild(docLink);\n",
              "        }\n",
              "      </script>\n",
              "    </div>\n",
              "  </div>\n",
              "  "
            ]
          },
          "metadata": {},
          "execution_count": 29
        }
      ]
    },
    {
      "cell_type": "code",
      "source": [
        "# features\n",
        "\n",
        "X = norm_dataset.iloc[:, :5]\n",
        "print(X.head())\n",
        "\n",
        "# labels\n",
        "\n",
        "Y = norm_dataset.iloc[:, -1]\n",
        "print(Y.head())"
      ],
      "metadata": {
        "colab": {
          "base_uri": "https://localhost:8080/"
        },
        "id": "JjS2pKCMS5Pk",
        "outputId": "03dc1651-1c82-4b4b-ea0b-de4bd6393432"
      },
      "execution_count": 30,
      "outputs": [
        {
          "output_type": "stream",
          "name": "stdout",
          "text": [
            "   distance_to_station      area  maximum_coverage_ratio  \\\n",
            "0                 0.05  0.012563                     1.0   \n",
            "1                 0.05  0.005025                     1.0   \n",
            "2                 0.05  0.005025                     1.0   \n",
            "3                 0.04  0.025126                     1.0   \n",
            "4                 0.03  0.042714                     1.0   \n",
            "\n",
            "   maximum_floor_area_ratio  building_age  \n",
            "0                      0.36      0.197368  \n",
            "1                      0.36      0.250000  \n",
            "2                      0.36      0.250000  \n",
            "3                      0.36      0.197368  \n",
            "4                      0.52      0.486842  \n",
            "0    0.006833\n",
            "1    0.002647\n",
            "2    0.002995\n",
            "3    0.010205\n",
            "4    0.006716\n",
            "Name: price, dtype: float64\n"
          ]
        }
      ]
    },
    {
      "cell_type": "code",
      "source": [
        "X_arr = X.values\n",
        "Y_arr = Y.values\n",
        "\n",
        "print(\"X_arr shape: \", X_arr.shape)\n",
        "print(\"Y_arr shape: \", Y_arr.shape)"
      ],
      "metadata": {
        "colab": {
          "base_uri": "https://localhost:8080/"
        },
        "id": "DATMJKLMS9v0",
        "outputId": "7a50f06b-7b21-42a0-ab0c-96c9bef5a1fb"
      },
      "execution_count": 31,
      "outputs": [
        {
          "output_type": "stream",
          "name": "stdout",
          "text": [
            "X_arr shape:  (132367, 5)\n",
            "Y_arr shape:  (132367,)\n"
          ]
        }
      ]
    },
    {
      "cell_type": "code",
      "source": [
        "X_train, X_test, y_train, y_test = train_test_split(X_arr, Y_arr, test_size = 0.1, shuffle = True, random_state=0)\n",
        "\n",
        "print(\"X_train shape: \", X_train.shape)\n",
        "print(\"y_train shape: \", y_train.shape)\n",
        "print(\"X_test shape: \", X_test.shape)\n",
        "print(\"y_test shape: \", y_test.shape)"
      ],
      "metadata": {
        "colab": {
          "base_uri": "https://localhost:8080/"
        },
        "id": "vl5dzgaETBDn",
        "outputId": "0443a415-ed18-4b9b-f2b2-fee0c9f4f658"
      },
      "execution_count": 32,
      "outputs": [
        {
          "output_type": "stream",
          "name": "stdout",
          "text": [
            "X_train shape:  (119130, 5)\n",
            "y_train shape:  (119130,)\n",
            "X_test shape:  (13237, 5)\n",
            "y_test shape:  (13237,)\n"
          ]
        }
      ]
    },
    {
      "cell_type": "code",
      "source": [
        "def root_mean_squared_error(y_true, y_pred):\n",
        "        return K.sqrt(K.mean(K.square(y_pred - y_true)))"
      ],
      "metadata": {
        "id": "cEE6i2rxTEvb"
      },
      "execution_count": 33,
      "outputs": []
    },
    {
      "cell_type": "code",
      "source": [
        "def dnn_model():\n",
        "    \n",
        "    model = Sequential([\n",
        "        Dense(10, input_shape = (5,), activation = \"relu\"),\n",
        "        Dense(20, activation = \"relu\"),\n",
        "        Dense(5, activation = \"relu\"),\n",
        "        Dense(1)])\n",
        "\n",
        "    model.compile(\n",
        "        optimizer = \"rmsprop\", \n",
        "        loss = root_mean_squared_error, \n",
        "        metrics = [\"accuracy\"])\n",
        "    \n",
        "    return model\n",
        "\n",
        "dnn_reg = dnn_model()\n",
        "dnn_reg.summary()"
      ],
      "metadata": {
        "colab": {
          "base_uri": "https://localhost:8080/"
        },
        "id": "Ay70KAxcTIMI",
        "outputId": "2d0d3dbb-bff5-4947-e9e0-b4d70f10d7ab"
      },
      "execution_count": 34,
      "outputs": [
        {
          "output_type": "stream",
          "name": "stdout",
          "text": [
            "Model: \"sequential\"\n",
            "_________________________________________________________________\n",
            " Layer (type)                Output Shape              Param #   \n",
            "=================================================================\n",
            " dense (Dense)               (None, 10)                60        \n",
            "                                                                 \n",
            " dense_1 (Dense)             (None, 20)                220       \n",
            "                                                                 \n",
            " dense_2 (Dense)             (None, 5)                 105       \n",
            "                                                                 \n",
            " dense_3 (Dense)             (None, 1)                 6         \n",
            "                                                                 \n",
            "=================================================================\n",
            "Total params: 391\n",
            "Trainable params: 391\n",
            "Non-trainable params: 0\n",
            "_________________________________________________________________\n"
          ]
        }
      ]
    },
    {
      "cell_type": "code",
      "source": [
        "early_stopping = EarlyStopping(monitor=\"val_loss\", patience = 5)\n",
        "\n",
        "preds_on_untrained = dnn_reg.predict(X_test)\n",
        "\n",
        "history = dnn_reg.fit(\n",
        "    X_train, y_train,\n",
        "    validation_data = (X_test, y_test),\n",
        "    epochs = 100,\n",
        "    callbacks = [early_stopping],\n",
        "    verbose = 0)"
      ],
      "metadata": {
        "id": "abIASuqLTM4r"
      },
      "execution_count": 35,
      "outputs": []
    },
    {
      "cell_type": "code",
      "source": [
        "print(\"---Training loss---\")\n",
        "print(history.history[\"loss\"])\n",
        "print(\"\")\n",
        "print(\"---Validation loss---\")\n",
        "print(history.history[\"val_loss\"])"
      ],
      "metadata": {
        "colab": {
          "base_uri": "https://localhost:8080/"
        },
        "id": "nK5cRTz1TWK1",
        "outputId": "69f4f57b-3db4-405c-ebcb-69f7f23e1a8f"
      },
      "execution_count": 36,
      "outputs": [
        {
          "output_type": "stream",
          "name": "stdout",
          "text": [
            "---Training loss---\n",
            "[0.004985578823834658, 0.0025647194124758244, 0.002172718523070216, 0.0020981309935450554, 0.00206467742100358, 0.002048114314675331, 0.002030499279499054, 0.0020242270547896624, 0.0020125359296798706, 0.0020168288610875607, 0.002014359226450324, 0.0020068807061761618, 0.0020043111871927977, 0.002004710491746664, 0.002001520013436675, 0.0020006175618618727, 0.001997079700231552, 0.0019924279768019915]\n",
            "\n",
            "---Validation loss---\n",
            "[0.003246696200221777, 0.0025964193046092987, 0.002216794528067112, 0.0024204349610954523, 0.002187806647270918, 0.002223807154223323, 0.0025130228605121374, 0.0020828954875469208, 0.0020174358505755663, 0.0020143245346844196, 0.00222164299339056, 0.002089792164042592, 0.002005986636504531, 0.0021354625932872295, 0.0021237798500806093, 0.0022401108872145414, 0.002435262082144618, 0.002066195709630847]\n"
          ]
        }
      ]
    },
    {
      "cell_type": "code",
      "source": [
        "price_max = dataset[\"price\"].max()\n",
        "print(price_max)\n",
        "price_min = dataset[\"price\"].min()\n",
        "print(price_min)\n",
        "\n",
        "def convert_price_values(pred):\n",
        "    return int((pred*(price_max-price_min) + price_min))"
      ],
      "metadata": {
        "colab": {
          "base_uri": "https://localhost:8080/"
        },
        "id": "O7G1O_j0Tak1",
        "outputId": "86be7100-4b2d-4b5b-f7db-db48a5babbcf"
      },
      "execution_count": 37,
      "outputs": [
        {
          "output_type": "stream",
          "name": "stdout",
          "text": [
            "700728.0\n",
            "19.5552\n"
          ]
        }
      ]
    },
    {
      "cell_type": "code",
      "source": [
        "loss_usd = []\n",
        "\n",
        "for l in history.history[\"loss\"]:\n",
        "    loss_usd.append(convert_price_values(l))"
      ],
      "metadata": {
        "id": "yK9WyluoTeWY"
      },
      "execution_count": 38,
      "outputs": []
    },
    {
      "cell_type": "code",
      "source": [
        "val_loss_usd = []\n",
        "\n",
        "for l in history.history[\"val_loss\"]:\n",
        "    val_loss_usd.append(convert_price_values(l))"
      ],
      "metadata": {
        "id": "rlr5X42qTiaW"
      },
      "execution_count": 39,
      "outputs": []
    },
    {
      "cell_type": "code",
      "source": [
        "print(\"Prediction loss:\",loss_usd)\n",
        "print(\"Validation loss:\",val_loss_usd)"
      ],
      "metadata": {
        "colab": {
          "base_uri": "https://localhost:8080/"
        },
        "id": "odLDf7kdVB8s",
        "outputId": "7fe86c6f-e819-4101-a922-450ff347c787"
      },
      "execution_count": 40,
      "outputs": [
        {
          "output_type": "stream",
          "name": "stdout",
          "text": [
            "Prediction loss: [3512, 1816, 1541, 1489, 1466, 1454, 1442, 1437, 1429, 1432, 1431, 1425, 1423, 1424, 1422, 1421, 1418, 1415]\n",
            "Validation loss: [2294, 1838, 1572, 1715, 1552, 1577, 1780, 1479, 1433, 1431, 1576, 1483, 1425, 1515, 1507, 1589, 1725, 1467]\n"
          ]
        }
      ]
    },
    {
      "cell_type": "code",
      "source": [
        "def plot_loss(history):\n",
        "    plt.plot(history.history['loss'], label='loss')\n",
        "    plt.plot(history.history['val_loss'], label='val_loss')\n",
        "    plt.xlabel('Epoch')\n",
        "    plt.ylabel('Error [Price]')\n",
        "    plt.legend()\n",
        "    plt.grid(True)\n",
        "\n",
        "plot_loss(history)"
      ],
      "metadata": {
        "colab": {
          "base_uri": "https://localhost:8080/",
          "height": 279
        },
        "id": "JK8e1P8MVHfU",
        "outputId": "927547f2-ffaa-4f77-ab34-a8b4359032b1"
      },
      "execution_count": 41,
      "outputs": [
        {
          "output_type": "display_data",
          "data": {
            "text/plain": [
              "<Figure size 432x288 with 1 Axes>"
            ],
            "image/png": "[encoded data removed]"
          },
          "metadata": {
            "needs_background": "light"
          }
        }
      ]
    },
    {
      "cell_type": "code",
      "source": [
        "preds = dnn_reg.predict(X_train)\n",
        "\n",
        "price_preds = [convert_price_values(y) for y in preds]\n",
        "price_labels = [convert_price_values(y) for y in y_train]\n",
        "plot_com(price_labels, price_preds)"
      ],
      "metadata": {
        "colab": {
          "base_uri": "https://localhost:8080/",
          "height": 606
        },
        "id": "aIhSAHmSVRJR",
        "outputId": "93f5d47d-8930-4be4-adc5-587672139122"
      },
      "execution_count": 42,
      "outputs": [
        {
          "output_type": "stream",
          "name": "stderr",
          "text": [
            "/usr/local/lib/python3.7/dist-packages/seaborn/distributions.py:2619: FutureWarning: `distplot` is a deprecated function and will be removed in a future version. Please adapt your code to use either `displot` (a figure-level function with similar flexibility) or `kdeplot` (an axes-level function for kernel density plots).\n",
            "  warnings.warn(msg, FutureWarning)\n",
            "/usr/local/lib/python3.7/dist-packages/seaborn/distributions.py:2619: FutureWarning: `distplot` is a deprecated function and will be removed in a future version. Please adapt your code to use either `displot` (a figure-level function with similar flexibility) or `kdeplot` (an axes-level function for kernel density plots).\n",
            "  warnings.warn(msg, FutureWarning)\n"
          ]
        },
        {
          "output_type": "display_data",
          "data": {
            "text/plain": [
              "<Figure size 864x576 with 1 Axes>"
            ],
            "image/png": "[encoded data removed]"
          },
          "metadata": {
            "needs_background": "light"
          }
        }
      ]
    },
    {
      "cell_type": "markdown",
      "source": [
        "# Decision Tree Regression with Numerical & Categorical Attributes\n"
      ],
      "metadata": {
        "id": "pZGAb2YYVabW"
      }
    },
    {
      "cell_type": "code",
      "source": [
        "num_pipeline = Pipeline([\n",
        "        (\"scale\",StandardScaler()),\n",
        "        (\"polynomial\",PolynomialFeatures(include_bias=False)),\n",
        "])"
      ],
      "metadata": {
        "id": "XJdsp6sPVcrS"
      },
      "execution_count": 43,
      "outputs": []
    },
    {
      "cell_type": "code",
      "source": [
        "full_pipeline = ColumnTransformer([\n",
        "    (\"num\", num_pipeline, num_attributes),\n",
        "    (\"cat\", OneHotEncoder(), cat_attributes)\n",
        "])"
      ],
      "metadata": {
        "id": "2VpBjtj0Vir_"
      },
      "execution_count": 44,
      "outputs": []
    },
    {
      "cell_type": "code",
      "source": [
        "nc_pipe = full_pipeline.fit_transform(train_set)"
      ],
      "metadata": {
        "id": "KH_lmWkQVm2m"
      },
      "execution_count": 45,
      "outputs": []
    },
    {
      "cell_type": "code",
      "source": [
        "nc_tree_reg = DecisionTreeRegressor()\n",
        "nc_tree_reg.fit(nc_pipe, train_set[\"price\"])"
      ],
      "metadata": {
        "colab": {
          "base_uri": "https://localhost:8080/"
        },
        "id": "osgmdhCtVqo6",
        "outputId": "149a8bed-f7b5-4513-fee4-38b84bd50e11"
      },
      "execution_count": 46,
      "outputs": [
        {
          "output_type": "execute_result",
          "data": {
            "text/plain": [
              "DecisionTreeRegressor()"
            ]
          },
          "metadata": {},
          "execution_count": 46
        }
      ]
    },
    {
      "cell_type": "code",
      "source": [
        "nc_tree_predictions = nc_tree_reg.predict(nc_pipe)\n",
        "nc_tree_mse = mean_squared_error(train_set[\"price\"], nc_tree_predictions)\n",
        "nc_tree_rmse = np.sqrt(nc_tree_mse)\n",
        "print(\"Prediction error: $\",int(nc_tree_rmse))"
      ],
      "metadata": {
        "colab": {
          "base_uri": "https://localhost:8080/"
        },
        "id": "4q3-BiVyVx7e",
        "outputId": "dcfbd538-56e7-4b26-9b5e-392e291d2c57"
      },
      "execution_count": 47,
      "outputs": [
        {
          "output_type": "stream",
          "name": "stdout",
          "text": [
            "Prediction error: $ 619\n"
          ]
        }
      ]
    },
    {
      "cell_type": "code",
      "source": [
        "plot_com(train_set[label], nc_tree_predictions)"
      ],
      "metadata": {
        "colab": {
          "base_uri": "https://localhost:8080/",
          "height": 606
        },
        "id": "wOoI2eB5V2cy",
        "outputId": "874ceee0-5718-4df6-d4e0-a0f7d39be9e7"
      },
      "execution_count": 48,
      "outputs": [
        {
          "output_type": "stream",
          "name": "stderr",
          "text": [
            "/usr/local/lib/python3.7/dist-packages/seaborn/distributions.py:2619: FutureWarning: `distplot` is a deprecated function and will be removed in a future version. Please adapt your code to use either `displot` (a figure-level function with similar flexibility) or `kdeplot` (an axes-level function for kernel density plots).\n",
            "  warnings.warn(msg, FutureWarning)\n",
            "/usr/local/lib/python3.7/dist-packages/seaborn/distributions.py:2619: FutureWarning: `distplot` is a deprecated function and will be removed in a future version. Please adapt your code to use either `displot` (a figure-level function with similar flexibility) or `kdeplot` (an axes-level function for kernel density plots).\n",
            "  warnings.warn(msg, FutureWarning)\n"
          ]
        },
        {
          "output_type": "display_data",
          "data": {
            "text/plain": [
              "<Figure size 864x576 with 1 Axes>"
            ],
            "image/png": "[encoded data removed]"
          },
          "metadata": {
            "needs_background": "light"
          }
        }
      ]
    },
    {
      "cell_type": "markdown",
      "source": [
        "# Multiple Linear Regression with Interaction Terms\n"
      ],
      "metadata": {
        "id": "8ErBmmAzV_Dx"
      }
    },
    {
      "cell_type": "code",
      "source": [
        "# create interaction terms\n",
        "interaction = PolynomialFeatures(degree=3, include_bias=False, interaction_only=True)\n",
        "X_inter = interaction.fit_transform(train_set[num_attributes])"
      ],
      "metadata": {
        "id": "l5e4z0WxV8pu"
      },
      "execution_count": 49,
      "outputs": []
    },
    {
      "cell_type": "code",
      "source": [
        "inter_reg = LinearRegression()\n",
        "inter_reg.fit(X_inter, train_set[label])"
      ],
      "metadata": {
        "colab": {
          "base_uri": "https://localhost:8080/"
        },
        "id": "Qe7kZZ31WL7H",
        "outputId": "100afac7-1419-4bb9-b3c9-26a722a84ffe"
      },
      "execution_count": 50,
      "outputs": [
        {
          "output_type": "execute_result",
          "data": {
            "text/plain": [
              "LinearRegression()"
            ]
          },
          "metadata": {},
          "execution_count": 50
        }
      ]
    },
    {
      "cell_type": "code",
      "source": [
        "inter_predictions = inter_reg.predict(X_inter)\n",
        "inter_mse = mean_squared_error(train_set[label], inter_predictions)\n",
        "inter_rmse = np.sqrt(inter_mse)\n",
        "print(\"Prediction error: $\",int(inter_rmse))"
      ],
      "metadata": {
        "colab": {
          "base_uri": "https://localhost:8080/"
        },
        "id": "BfndLK-pWSTr",
        "outputId": "67c488bf-5253-4425-e4f0-1a252f70c099"
      },
      "execution_count": 51,
      "outputs": [
        {
          "output_type": "stream",
          "name": "stdout",
          "text": [
            "Prediction error: $ 2010\n"
          ]
        }
      ]
    },
    {
      "cell_type": "code",
      "source": [
        "plot_com(train_set[label], inter_predictions)"
      ],
      "metadata": {
        "colab": {
          "base_uri": "https://localhost:8080/",
          "height": 606
        },
        "id": "1Dtwk0dgWWlo",
        "outputId": "ddd07c44-ebbf-4a30-9c3b-ded844651f02"
      },
      "execution_count": 52,
      "outputs": [
        {
          "output_type": "stream",
          "name": "stderr",
          "text": [
            "/usr/local/lib/python3.7/dist-packages/seaborn/distributions.py:2619: FutureWarning: `distplot` is a deprecated function and will be removed in a future version. Please adapt your code to use either `displot` (a figure-level function with similar flexibility) or `kdeplot` (an axes-level function for kernel density plots).\n",
            "  warnings.warn(msg, FutureWarning)\n",
            "/usr/local/lib/python3.7/dist-packages/seaborn/distributions.py:2619: FutureWarning: `distplot` is a deprecated function and will be removed in a future version. Please adapt your code to use either `displot` (a figure-level function with similar flexibility) or `kdeplot` (an axes-level function for kernel density plots).\n",
            "  warnings.warn(msg, FutureWarning)\n"
          ]
        },
        {
          "output_type": "display_data",
          "data": {
            "text/plain": [
              "<Figure size 864x576 with 1 Axes>"
            ],
            "image/png": "[encoded data removed]"
          },
          "metadata": {
            "needs_background": "light"
          }
        }
      ]
    },
    {
      "cell_type": "markdown",
      "source": [
        "# Model Performances on Train Dataset\n"
      ],
      "metadata": {
        "id": "Ov_lLiDgWeEk"
      }
    },
    {
      "cell_type": "code",
      "source": [
        "models_errors = {\"Model\":[\"Multiple Linear Regression\",\"Decision Tree Regression\",\"Random Forest Regression\",\n",
        "                          \"DNN Regression\", \"MLR with Polynomial Features\",\"MLR with Interaction Terms\",\n",
        "                          \"Decision Tree with Num&Cat Attributes\"],\n",
        "                  \"Prediction Error (USD)\":[lin_rmse,tree_rmse,forest_rmse,\n",
        "                                            convert_price_values(history.history[\"loss\"][-1]),\n",
        "                                            pipe_rmse,inter_rmse,nc_tree_rmse]}\n",
        "\n",
        "com_table = pd.DataFrame(data=models_errors)"
      ],
      "metadata": {
        "id": "ZA7KSgTIWdVb"
      },
      "execution_count": 53,
      "outputs": []
    },
    {
      "cell_type": "code",
      "source": [
        "com_table.sort_values(by=[\"Prediction Error (USD)\"], inplace=True, ascending=False)\n",
        "com_table.reset_index(drop=True, inplace=True)\n",
        "com_table"
      ],
      "metadata": {
        "colab": {
          "base_uri": "https://localhost:8080/",
          "height": 269
        },
        "id": "c7AGtKSpWuZg",
        "outputId": "5ffef97a-5e28-41d3-8469-667b9c8503c9"
      },
      "execution_count": 54,
      "outputs": [
        {
          "output_type": "execute_result",
          "data": {
            "text/plain": [
              "                                   Model  Prediction Error (USD)\n",
              "0             Multiple Linear Regression             2555.626038\n",
              "1           MLR with Polynomial Features             2015.366078\n",
              "2             MLR with Interaction Terms             2010.357381\n",
              "3                         DNN Regression             1415.000000\n",
              "4               Random Forest Regression             1278.778609\n",
              "5               Decision Tree Regression              980.550648\n",
              "6  Decision Tree with Num&Cat Attributes              619.533755"
            ],
            "text/html": [
              "\n",
              "  <div id=\"df-8c1f396c-9291-4c69-aee9-44232893aa5a\">\n",
              "    <div class=\"colab-df-container\">\n",
              "      <div>\n",
              "<style scoped>\n",
              "    .dataframe tbody tr th:only-of-type {\n",
              "        vertical-align: middle;\n",
              "    }\n",
              "\n",
              "    .dataframe tbody tr th {\n",
              "        vertical-align: top;\n",
              "    }\n",
              "\n",
              "    .dataframe thead th {\n",
              "        text-align: right;\n",
              "    }\n",
              "</style>\n",
              "<table border=\"1\" class=\"dataframe\">\n",
              "  <thead>\n",
              "    <tr style=\"text-align: right;\">\n",
              "      <th></th>\n",
              "      <th>Model</th>\n",
              "      <th>Prediction Error (USD)</th>\n",
              "    </tr>\n",
              "  </thead>\n",
              "  <tbody>\n",
              "    <tr>\n",
              "      <th>0</th>\n",
              "      <td>Multiple Linear Regression</td>\n",
              "      <td>2555.626038</td>\n",
              "    </tr>\n",
              "    <tr>\n",
              "      <th>1</th>\n",
              "      <td>MLR with Polynomial Features</td>\n",
              "      <td>2015.366078</td>\n",
              "    </tr>\n",
              "    <tr>\n",
              "      <th>2</th>\n",
              "      <td>MLR with Interaction Terms</td>\n",
              "      <td>2010.357381</td>\n",
              "    </tr>\n",
              "    <tr>\n",
              "      <th>3</th>\n",
              "      <td>DNN Regression</td>\n",
              "      <td>1415.000000</td>\n",
              "    </tr>\n",
              "    <tr>\n",
              "      <th>4</th>\n",
              "      <td>Random Forest Regression</td>\n",
              "      <td>1278.778609</td>\n",
              "    </tr>\n",
              "    <tr>\n",
              "      <th>5</th>\n",
              "      <td>Decision Tree Regression</td>\n",
              "      <td>980.550648</td>\n",
              "    </tr>\n",
              "    <tr>\n",
              "      <th>6</th>\n",
              "      <td>Decision Tree with Num&amp;Cat Attributes</td>\n",
              "      <td>619.533755</td>\n",
              "    </tr>\n",
              "  </tbody>\n",
              "</table>\n",
              "</div>\n",
              "      <button class=\"colab-df-convert\" onclick=\"convertToInteractive('df-8c1f396c-9291-4c69-aee9-44232893aa5a')\"\n",
              "              title=\"Convert this dataframe to an interactive table.\"\n",
              "              style=\"display:none;\">\n",
              "        \n",
              "  <svg xmlns=\"http://www.w3.org/2000/svg\" height=\"24px\"viewBox=\"0 0 24 24\"\n",
              "       width=\"24px\">\n",
              "    <path d=\"M0 0h24v24H0V0z\" fill=\"none\"/>\n",
              "    <path d=\"M18.56 5.44l.94 2.06.94-2.06 2.06-.94-2.06-.94-.94-2.06-.94 2.06-2.06.94zm-11 1L8.5 8.5l.94-2.06 2.06-.94-2.06-.94L8.5 2.5l-.94 2.06-2.06.94zm10 10l.94 2.06.94-2.06 2.06-.94-2.06-.94-.94-2.06-.94 2.06-2.06.94z\"/><path d=\"M17.41 7.96l-1.37-1.37c-.4-.4-.92-.59-1.43-.59-.52 0-1.04.2-1.43.59L10.3 9.45l-7.72 7.72c-.78.78-.78 2.05 0 2.83L4 21.41c.39.39.9.59 1.41.59.51 0 1.02-.2 1.41-.59l7.78-7.78 2.81-2.81c.8-.78.8-2.07 0-2.86zM5.41 20L4 18.59l7.72-7.72 1.47 1.35L5.41 20z\"/>\n",
              "  </svg>\n",
              "      </button>\n",
              "      \n",
              "  <style>\n",
              "    .colab-df-container {\n",
              "      display:flex;\n",
              "      flex-wrap:wrap;\n",
              "      gap: 12px;\n",
              "    }\n",
              "\n",
              "    .colab-df-convert {\n",
              "      background-color: #E8F0FE;\n",
              "      border: none;\n",
              "      border-radius: 50%;\n",
              "      cursor: pointer;\n",
              "      display: none;\n",
              "      fill: #1967D2;\n",
              "      height: 32px;\n",
              "      padding: 0 0 0 0;\n",
              "      width: 32px;\n",
              "    }\n",
              "\n",
              "    .colab-df-convert:hover {\n",
              "      background-color: #E2EBFA;\n",
              "      box-shadow: 0px 1px 2px rgba(60, 64, 67, 0.3), 0px 1px 3px 1px rgba(60, 64, 67, 0.15);\n",
              "      fill: #174EA6;\n",
              "    }\n",
              "\n",
              "    [theme=dark] .colab-df-convert {\n",
              "      background-color: #3B4455;\n",
              "      fill: #D2E3FC;\n",
              "    }\n",
              "\n",
              "    [theme=dark] .colab-df-convert:hover {\n",
              "      background-color: #434B5C;\n",
              "      box-shadow: 0px 1px 3px 1px rgba(0, 0, 0, 0.15);\n",
              "      filter: drop-shadow(0px 1px 2px rgba(0, 0, 0, 0.3));\n",
              "      fill: #FFFFFF;\n",
              "    }\n",
              "  </style>\n",
              "\n",
              "      <script>\n",
              "        const buttonEl =\n",
              "          document.querySelector('#df-8c1f396c-9291-4c69-aee9-44232893aa5a button.colab-df-convert');\n",
              "        buttonEl.style.display =\n",
              "          google.colab.kernel.accessAllowed ? 'block' : 'none';\n",
              "\n",
              "        async function convertToInteractive(key) {\n",
              "          const element = document.querySelector('#df-8c1f396c-9291-4c69-aee9-44232893aa5a');\n",
              "          const dataTable =\n",
              "            await google.colab.kernel.invokeFunction('convertToInteractive',\n",
              "                                                     [key], {});\n",
              "          if (!dataTable) return;\n",
              "\n",
              "          const docLinkHtml = 'Like what you see? Visit the ' +\n",
              "            '<a target=\"_blank\" href=https://colab.research.google.com/notebooks/data_table.ipynb>data table notebook</a>'\n",
              "            + ' to learn more about interactive tables.';\n",
              "          element.innerHTML = '';\n",
              "          dataTable['output_type'] = 'display_data';\n",
              "          await google.colab.output.renderOutput(dataTable, element);\n",
              "          const docLink = document.createElement('div');\n",
              "          docLink.innerHTML = docLinkHtml;\n",
              "          element.appendChild(docLink);\n",
              "        }\n",
              "      </script>\n",
              "    </div>\n",
              "  </div>\n",
              "  "
            ]
          },
          "metadata": {},
          "execution_count": 54
        }
      ]
    }
  ]
}